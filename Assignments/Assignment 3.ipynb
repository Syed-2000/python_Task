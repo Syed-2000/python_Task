{
 "cells": [
  {
   "cell_type": "code",
   "execution_count": 4,
   "metadata": {},
   "outputs": [
    {
     "name": "stdout",
     "output_type": "stream",
     "text": [
      "Enter operation:\n",
      "1-Add\n",
      "2-Subtract\n",
      "3-Multiply\n",
      "4-Divide\n",
      "2\n",
      "Enter 1st no: 22\n",
      "Enter 2nd no: 3\n",
      "19\n",
      "Invalid input\n"
     ]
    }
   ],
   "source": [
    "# Make a calculator using Python with addition , subtraction , multiplication ,\n",
    "#divison and power.\n",
    "\n",
    "operator = input(\"Enter operation:\\n1-Add\\n2-Subtract\\n3-Multiply\\n4-Divide\\n\")\n",
    "num1 = int(input(\"Enter 1st no: \"))\n",
    "num2 = int(input(\"Enter 2nd no: \"))\n",
    "if operator == \"1\":\n",
    "    print(num1 + num2)\n",
    "if operator == \"2\":\n",
    "    print(num1 - num2)\n",
    "if operator == \"3\":\n",
    "    print(num1 * num2)\n",
    "if operator == \"4\":\n",
    "    print(num1 / num2)\n",
    "else:\n",
    "    print(\"Invalid input\")\n",
    "\n"
   ]
  },
  {
   "cell_type": "code",
   "execution_count": 9,
   "metadata": {},
   "outputs": [
    {
     "name": "stdout",
     "output_type": "stream",
     "text": [
      "1\n"
     ]
    }
   ],
   "source": [
    "#Write a program to check if there is any numeric value in list using for loop\n",
    "lst = [\"Syed\", 1 , \"Muhammad\", 2 , \"Osama\", 3]\n",
    "for x in lst:\n",
    "    if x == 1:\n",
    "        print(x)\n",
    "\n"
   ]
  },
  {
   "cell_type": "code",
   "execution_count": 13,
   "metadata": {},
   "outputs": [
    {
     "name": "stdout",
     "output_type": "stream",
     "text": [
      "Updated dictionary is {'Name': 'Syed Muhammad Osama', 'Qualification': 'Undergraduate', 'Skill': 'Programming'}\n"
     ]
    }
   ],
   "source": [
    "#Write a Python script to add a key to a dictionary\n",
    "dictionary = {\n",
    "    'Name': 'Syed Muhammad Osama',\n",
    "    'Qualification': 'Undergraduate'\n",
    "}\n",
    "dictionary.update({'Skill' : 'Programming'})\n",
    "print(\"Updated dictionary is\", dictionary)"
   ]
  },
  {
   "cell_type": "code",
   "execution_count": 15,
   "metadata": {},
   "outputs": [
    {
     "name": "stdout",
     "output_type": "stream",
     "text": [
      "sum of all subject is:  415\n"
     ]
    }
   ],
   "source": [
    "#Write a Python program to sum all the numeric items in a dictionary\n",
    "dic = {\n",
    "    'physics': 89,\n",
    "    'maths':90,\n",
    "    'computer':90,\n",
    "    'English':69,\n",
    "    'Islamiat': 77\n",
    "}\n",
    "\n",
    "sum = 0\n",
    "for x in dic:\n",
    "    sum = sum + dic[x]\n",
    "print( \"sum of all subject is: \", sum)\n",
    "\n",
    "\n",
    "\n",
    "\n"
   ]
  },
  {
   "cell_type": "code",
   "execution_count": 19,
   "metadata": {},
   "outputs": [
    {
     "name": "stdout",
     "output_type": "stream",
     "text": [
      "[2, 4, 10, 20, 5]\n"
     ]
    }
   ],
   "source": [
    "#Write a program to identify duplicate values from list\n",
    "duplicate = [2, 4, 10, 20, 5, 2, 20, 4]\n",
    "final_list = []\n",
    "for num in duplicate:\n",
    "    if num not in final_list: \n",
    "        final_list.append(num)\n",
    "print(final_list)\n",
    "\n",
    "\n"
   ]
  },
  {
   "cell_type": "code",
   "execution_count": 33,
   "metadata": {},
   "outputs": [
    {
     "name": "stdout",
     "output_type": "stream",
     "text": [
      "Enter a subject namemaths\n",
      "This subject already exists and its value is:  90\n"
     ]
    }
   ],
   "source": [
    "#Write a Python script to check if a given key already exists in a dictionary\n",
    "\n",
    "dic = {\n",
    "    'physics': 89,\n",
    "    'maths':90,\n",
    "    'computer':90,\n",
    "    'English':69,\n",
    "    'Islamiat': 77\n",
    "}\n",
    "\n",
    "subject = input(\"Enter a subject name\")\n",
    "\n",
    "for x in dic:\n",
    "    if x == subject:\n",
    "        print(\"This subject already exists and its value is: \", dic[x]) b"
   ]
  },
  {
   "cell_type": "code",
   "execution_count": null,
   "metadata": {},
   "outputs": [],
   "source": []
  },
  {
   "cell_type": "code",
   "execution_count": null,
   "metadata": {},
   "outputs": [],
   "source": []
  }
 ],
 "metadata": {
  "kernelspec": {
   "display_name": "Python 3",
   "language": "python",
   "name": "python3"
  },
  "language_info": {
   "codemirror_mode": {
    "name": "ipython",
    "version": 3
   },
   "file_extension": ".py",
   "mimetype": "text/x-python",
   "name": "python",
   "nbconvert_exporter": "python",
   "pygments_lexer": "ipython3",
   "version": "3.7.4"
  }
 },
 "nbformat": 4,
 "nbformat_minor": 2
}
