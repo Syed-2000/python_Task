{
 "cells": [
  {
   "cell_type": "code",
   "execution_count": 2,
   "metadata": {},
   "outputs": [
    {
     "name": "stdout",
     "output_type": "stream",
     "text": [
      "Enter number 1:  12\n",
      "Enter number 2:  22\n",
      "sum is  34\n"
     ]
    }
   ],
   "source": [
    "no1 = int(input(\"Enter number 1:  \"))\n",
    "no2 = int(input(\"Enter number 2:  \"))\n",
    "print(\"sum is \", no1 + no2)"
   ]
  },
  {
   "cell_type": "code",
   "execution_count": 3,
   "metadata": {},
   "outputs": [
    {
     "name": "stdout",
     "output_type": "stream",
     "text": [
      "Enter radius: 33\n",
      "area is:  3421.638\n"
     ]
    }
   ],
   "source": [
    "pi = 3.142\n",
    "r = int(input(\"Enter radius: \"))\n",
    "area = pi*r*r\n",
    "print(\"area is: \", area)"
   ]
  },
  {
   "cell_type": "code",
   "execution_count": 4,
   "metadata": {},
   "outputs": [
    {
     "name": "stdout",
     "output_type": "stream",
     "text": [
      "Today's date: 2019-11-27\n"
     ]
    }
   ],
   "source": [
    "from datetime import date\n",
    "today = date.today()\n",
    "print(\"Today's date:\", today)"
   ]
  },
  {
   "cell_type": "code",
   "execution_count": 6,
   "metadata": {},
   "outputs": [
    {
     "name": "stdout",
     "output_type": "stream",
     "text": [
      "3.7.4 (default, Aug  9 2019, 18:34:13) [MSC v.1915 64 bit (AMD64)]\n"
     ]
    }
   ],
   "source": [
    "import sys\n",
    "versionOfPython = sys.version \n",
    "print(versionOfPython)"
   ]
  },
  {
   "cell_type": "code",
   "execution_count": 7,
   "metadata": {},
   "outputs": [
    {
     "name": "stdout",
     "output_type": "stream",
     "text": [
      "Enter first namesyed\n",
      "Enter last nameosama\n",
      "osama  syed\n"
     ]
    }
   ],
   "source": [
    "f_name = input(\"Enter first name  \")\n",
    "l_name = input(\"Enter last name  \")\n",
    "print(l_name + \"  \" + f_name)"
   ]
  },
  {
   "cell_type": "code",
   "execution_count": 8,
   "metadata": {},
   "outputs": [
    {
     "name": "stdout",
     "output_type": "stream",
     "text": [
      "Twimkle, twinkle, little star,\n",
      "      How I wonder what you are!\n",
      "            Up above the world so high,\n",
      "            Like a diamond in the sky.\n",
      "Twimkle, twinkle, little star,\n",
      "      How I wonder what you are!\n",
      "      \n"
     ]
    }
   ],
   "source": [
    "string1 = \"\"\"Twimkle, twinkle, little star,\n",
    "      How I wonder what you are!\n",
    "      \"\"\"\n",
    "string2 = \"\"\"      Up above the world so high,\n",
    "            Like a diamond in the sky.\n",
    "\"\"\"\n",
    "print(string1 + string2 + string1)"
   ]
  },
  {
   "cell_type": "code",
   "execution_count": null,
   "metadata": {},
   "outputs": [],
   "source": []
  }
 ],
 "metadata": {
  "kernelspec": {
   "display_name": "Python 3",
   "language": "python",
   "name": "python3"
  },
  "language_info": {
   "codemirror_mode": {
    "name": "ipython",
    "version": 3
   },
   "file_extension": ".py",
   "mimetype": "text/x-python",
   "name": "python",
   "nbconvert_exporter": "python",
   "pygments_lexer": "ipython3",
   "version": "3.7.4"
  }
 },
 "nbformat": 4,
 "nbformat_minor": 2
}
