{
 "cells": [
  {
   "cell_type": "code",
   "execution_count": 13,
   "metadata": {},
   "outputs": [
    {
     "name": "stdout",
     "output_type": "stream",
     "text": [
      "after updating\n",
      " {'first_name': 'Arish', 'last_name': 'Siddiqui', 'age': 22, 'city': 'Karachi', 'country': 'Pakistan', 'address': 'R-1234 Block 00 xyzArea karachi', 'qualification': 'graduate'} \n",
      "\n",
      "\n",
      "after deleting\n",
      " {'first_name': 'Arish', 'last_name': 'Siddiqui', 'age': 22, 'city': 'Karachi', 'country': 'Pakistan', 'address': 'R-1234 Block 00 xyzArea karachi'}\n"
     ]
    }
   ],
   "source": [
    "#Use a dictionary to store information about a person you know. Store their first name, last name, age,\n",
    "#and the city in which they live. You should have keys such as first_name, last_name, age, and city. Print\n",
    "#each piece of information stored in your dictionary. Add a new key value pair about qualification then\n",
    "#update the qualification value to high academic level then delete it.\n",
    "\n",
    "known_person = {\n",
    "    \"first_name\": \"Arish\",\n",
    "    \"last_name\": \"Siddiqui\",\n",
    "    \"age\":22,\n",
    "    \"city\":\"Karachi\",\n",
    "    \"country\":\"Pakistan\",\n",
    "    \"address\" :\"R-1234 Block 00 xyzArea karachi\"\n",
    "}\n",
    "known_person.update({\"qualification\" : \"graduate\"})\n",
    "\n",
    "print(\"after updating\\n\",known_person,\"\\n\")\n",
    "\n",
    "del known_person[\"qualification\"]\n",
    "\n",
    "print(\"\\nafter deleting\\n\",known_person)\n",
    "\n",
    "\n",
    "\n",
    "\n",
    "\n",
    "\n",
    "\n"
   ]
  },
  {
   "cell_type": "code",
   "execution_count": 1,
   "metadata": {},
   "outputs": [
    {
     "name": "stdout",
     "output_type": "stream",
     "text": [
      "{'Medina': {'Country': 'Arab Shareef', 'Population': '1.1 Million', 'fact': 'It is the second holiest city in Islam, after Mecca'}, 'Babul-Madina': {'Country': 'Pakistan', 'Population': '14.7 Million', 'fact': 'It is the Sixth largest city in the world by city population.'}, 'Istanbul': {'Country': 'Turkey', 'Population': '15.07 Million', 'fact': 'Istanbul is the only city in the world which is both in Europe and Asia geographicaly.'}}\n"
     ]
    }
   ],
   "source": [
    "#Make a dictionary called cities. Use the names of three cities as keys in your dictionary. Create a dictionary of information\n",
    "#about each city and include the country that the city is in, its approximate population, and one fact about that city.\n",
    "#The keys for each city’s dictionary should be something like country, population, and fact. Print the name of each city \n",
    "#and all of the information you have stored about it.\n",
    "\n",
    "\n",
    "\n",
    "Medina = {\n",
    "    \"Country\" : \"Arab Shareef\",\n",
    "    \"Population\": \"1.1 Million\" ,\n",
    "    \"fact\" : \"It is the second holiest city in Islam, after Mecca\"\n",
    "}\n",
    "\n",
    "Babul_Medina = {\n",
    "    \"Country\" : \"Pakistan\",\n",
    "    \"Population\": \"14.7 Million\" ,\n",
    "    \"fact\" : \"It is the Sixth largest city in the world by city population.\"\n",
    "}\n",
    "\n",
    "Istanbul = {\n",
    "    \"Country\" : \"Turkey\",\n",
    "    \"Population\": \"15.07 Million\" ,\n",
    "    \"fact\" : \"Istanbul is the only city in the world which is both in Europe and Asia geographicaly.\"\n",
    "}\n",
    "\n",
    "cities = {\n",
    "    \"Medina\" : Medina,\n",
    "    \"Babul-Madina\" : Babul_Medina,\n",
    "    \"Istanbul\" : Istanbul\n",
    "}\n",
    "\n",
    "print(cities)\n",
    "\n",
    "\n",
    "\n",
    "\n",
    "\n",
    "\n"
   ]
  },
  {
   "cell_type": "code",
   "execution_count": 2,
   "metadata": {},
   "outputs": [
    {
     "name": "stdout",
     "output_type": "stream",
     "text": [
      "Enter your age\n",
      "3\n",
      "Your ticket is free\n",
      "Enter your age\n",
      "12\n",
      "Your ticket is of $10\n",
      "Enter your age\n",
      "25\n",
      "Your ticket is of $15\n",
      "Enter your age\n",
      "0\n",
      "Invalid\n"
     ]
    }
   ],
   "source": [
    "#A movie theater charges different ticket prices depending on a person’s age. If a person is under the age of 3, the ticket is\n",
    "#free; if they are between 3 and 12, the ticket is $10; and if they are over age 12, the ticket is $15. Write a loop in which you\n",
    "#ask users their age, and then tell them the cost of their movie ticket.\n",
    "\n",
    "for x in range(1,10):\n",
    "    age = int(input(\"Enter your age\\n\"))\n",
    "    if age<=3 and age>0:\n",
    "        print(\"Your ticket is free\")\n",
    "    elif age>3 and age<=12:\n",
    "        print(\"Your ticket is of $10\")\n",
    "    elif age>12:\n",
    "        print(\"Your ticket is of $15\")\n",
    "    else:\n",
    "        print(\"Invalid\")\n",
    "        break\n",
    "\n",
    "\n",
    "\n",
    "\n",
    "\n"
   ]
  },
  {
   "cell_type": "code",
   "execution_count": 3,
   "metadata": {},
   "outputs": [
    {
     "name": "stdout",
     "output_type": "stream",
     "text": [
      "Alice   one of my favorite books is Alice in Wonderland\n"
     ]
    }
   ],
   "source": [
    "#Write a function called favorite_book() that accepts one parameter, title. The function should print a message, such as One\n",
    "#of my favorite books is Alice in Wonderland. Call the function, making sure to include a book title as an argument in the\n",
    "#function call.\n",
    "\n",
    "def favorite_book(title):\n",
    "    print(title,\"  one of my favorite books is Alice in Wonderland\")\n",
    "\n",
    "favorite_book(\"Alice\")\n",
    "\n"
   ]
  },
  {
   "cell_type": "code",
   "execution_count": 1,
   "metadata": {},
   "outputs": [
    {
     "name": "stdout",
     "output_type": "stream",
     "text": [
      "17\n",
      "Guess a number: 33\n",
      "Your written number is greater\n",
      "Guess a number: 22\n",
      "Your written number is greater\n",
      "Guess a number: 17\n",
      "You choose the write number\n"
     ]
    },
    {
     "data": {
      "text/plain": [
       "False"
      ]
     },
     "execution_count": 1,
     "metadata": {},
     "output_type": "execute_result"
    }
   ],
   "source": [
    "#Guess the number game Write a program which randomly generate a number between 1 to 30 and ask the user in input field to\n",
    "#guess the correct number. Give three chances to user guess the number and also give hint to user if hidden number is greater \n",
    "#or smaller than the number he given to input field.\n",
    "\n",
    "import random\n",
    "\n",
    "hidden = random.randrange(1, 30)\n",
    "print(hidden)\n",
    "flag = True\n",
    "while flag==True:\n",
    "    guess = int(input(\"Guess a number: \"))\n",
    "\n",
    "    if guess > hidden:\n",
    "        print(\"Your written number is greater\")\n",
    "\n",
    "    if guess < hidden:\n",
    "        print(\"Your written number is lower\")\n",
    "    \n",
    "    if guess == hidden:\n",
    "        print(\"You choose the write number\")\n",
    "        break\n",
    "\n"
   ]
  },
  {
   "cell_type": "code",
   "execution_count": null,
   "metadata": {},
   "outputs": [],
   "source": []
  },
  {
   "cell_type": "code",
   "execution_count": null,
   "metadata": {},
   "outputs": [],
   "source": []
  }
 ],
 "metadata": {
  "kernelspec": {
   "display_name": "Python 3",
   "language": "python",
   "name": "python3"
  }
 },
 "nbformat": 4,
 "nbformat_minor": 2
}
