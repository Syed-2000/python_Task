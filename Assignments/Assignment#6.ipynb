{
 "cells": [
  {
   "cell_type": "code",
   "execution_count": 1,
   "metadata": {},
   "outputs": [
    {
     "name": "stdout",
     "output_type": "stream",
     "text": [
      "Object-oriented programming (OOP) is a programming language model in which programs are organized\n",
      "\n",
      "around data, or objects, rather than functions and logic. An object can be defined as a data field\n",
      "\n",
      "that has unique attributes and behavior.Examples of an object can range from physical entities, such\n",
      "\n",
      "as a human being that is described by properties like name and address, down to small computer \n",
      "\n",
      "programs, such as widgets. This opposes the historical approach to programming where emphasis was\n",
      "\n",
      "placed on how the logic was written rather than how to define the data within the logic.\n",
      "\n"
     ]
    }
   ],
   "source": [
    "#Define Object Oriented Programming Language?\n",
    "\n",
    "print(\"\"\"Object-oriented programming (OOP) is a programming language model in which programs are organized\\n\n",
    "around data, or objects, rather than functions and logic. An object can be defined as a data field\\n\n",
    "that has unique attributes and behavior.Examples of an object can range from physical entities, such\\n\n",
    "as a human being that is described by properties like name and address, down to small computer \\n\n",
    "programs, such as widgets. This opposes the historical approach to programming where emphasis was\\n\n",
    "placed on how the logic was written rather than how to define the data within the logic.\n",
    "\"\"\")"
   ]
  },
  {
   "cell_type": "code",
   "execution_count": 2,
   "metadata": {},
   "outputs": [
    {
     "name": "stdout",
     "output_type": "stream",
     "text": [
      "1. Modularity for easier troubleshooting\n",
      "\n",
      "2. Reuse of code through inheritance\n",
      "\n",
      "3. Flexibility through polymorphism\n",
      "\n",
      "4. Effective problem solving\n"
     ]
    }
   ],
   "source": [
    "#List down the Benefits of OOP?\n",
    "print(\"\"\"1. Modularity for easier troubleshooting\\n\n",
    "2. Reuse of code through inheritance\\n\n",
    "3. Flexibility through polymorphism\\n\n",
    "4. Effective problem solving\"\"\")"
   ]
  },
  {
   "cell_type": "code",
   "execution_count": 4,
   "metadata": {},
   "outputs": [
    {
     "name": "stdout",
     "output_type": "stream",
     "text": [
      "A function is a piece of code that is called by name. It can be passed data to operate on\n",
      "\n",
      "(i.e. the parameters) and can optionally return data (the return value). All data that is passed\n",
      "\n",
      "to a function is explicitly passed. A method is a piece of code that is called by a name that is \n",
      "\n",
      "associated with an object.\n"
     ]
    }
   ],
   "source": [
    "print(\"\"\"A function is a piece of code that is called by name. It can be passed data to operate on\\n\n",
    "(i.e. the parameters) and can optionally return data (the return value). All data that is passed\\n\n",
    "to a function is explicitly passed. A method is a piece of code that is called by a name that is \\n\n",
    "associated with an object.\"\"\")"
   ]
  },
  {
   "cell_type": "code",
   "execution_count": 1,
   "metadata": {},
   "outputs": [
    {
     "name": "stdout",
     "output_type": "stream",
     "text": [
      "Class:\n",
      "             Classes (OOP) In object-oriented programming, a class is a blueprint for creating objects\n",
      "     (a particular data structure), providing initial values for state (member variables or \n",
      "     attributes), and implementations of behavior (member functions or methods). The user-defined \n",
      "      objects are created using the class keyword.\n",
      "Object:\n",
      "          Python is an object oriented programming language. Unlike procedure oriented programming, \n",
      "      where the main emphasis is on functions, object oriented programming stress on objects. \n",
      "      Object is simply a collection of data (variables) and methods (functions) that act on those \n",
      "      data. And, class is a blueprint for the object\n",
      "Attribute:\n",
      "         Attribute (computing) ... In computing, an attribute is a specification that defines \n",
      "      a property of an object, element, or file. It may also refer to or set the specific value \n",
      "      for a given instance of such. For clarity, attributes should more correctly be considered\n",
      "      metadata.\n",
      "Behavior:\n",
      "         Behavior. Because of their bulk, pythons move by scooting forward in a straight line. \n",
      "      This is called “rectilinear progression” movement, according to the San Diego Zoo. Pythons\n",
      "      stiffen their ribs for support against the ground then lift their bellies and push themselves\n",
      "      forward.\n"
     ]
    }
   ],
   "source": [
    "#Define the following terms:\n",
    "#1. Class\n",
    "#2. Object\n",
    "#3. Attribute\n",
    "#4. Behavior\n",
    "\n",
    "print(\"\"\"Class:\n",
    "             Classes (OOP) In object-oriented programming, a class is a blueprint for creating objects\n",
    "     (a particular data structure), providing initial values for state (member variables or \n",
    "     attributes), and implementations of behavior (member functions or methods). The user-defined \n",
    "      objects are created using the class keyword.\"\"\")\n",
    "print(\"\"\"Object:\n",
    "          Python is an object oriented programming language. Unlike procedure oriented programming, \n",
    "      where the main emphasis is on functions, object oriented programming stress on objects. \n",
    "      Object is simply a collection of data (variables) and methods (functions) that act on those \n",
    "      data. And, class is a blueprint for the object\"\"\")\n",
    "print(\"\"\"Attribute:\n",
    "         Attribute (computing) ... In computing, an attribute is a specification that defines \n",
    "      a property of an object, element, or file. It may also refer to or set the specific value \n",
    "      for a given instance of such. For clarity, attributes should more correctly be considered\n",
    "      metadata.\"\"\")\n",
    "print(\"\"\"Behavior:\n",
    "         Behavior. Because of their bulk, pythons move by scooting forward in a straight line. \n",
    "      This is called “rectilinear progression” movement, according to the San Diego Zoo. Pythons\n",
    "      stiffen their ribs for support against the ground then lift their bellies and push themselves\n",
    "      forward.\"\"\"\n",
    "     )\n",
    "\n"
   ]
  },
  {
   "cell_type": "code",
   "execution_count": 17,
   "metadata": {},
   "outputs": [
    {
     "name": "stdout",
     "output_type": "stream",
     "text": [
      "My car model number is 2019\n",
      "My car color is: red\n",
      "My car name is: corolla\n"
     ]
    }
   ],
   "source": [
    "#Question 5:\n",
    "#Write a code in python in which create a class named it Car which\n",
    "#have 5 attributes such like (model, color and name etc.) and 3\n",
    "#methods. And create 5 object instance from that class.\n",
    "class Car():\n",
    "    def __init__(self, model, color,name, price, power):\n",
    "        self.model = model\n",
    "        self.color = color\n",
    "        self.name = name\n",
    "        self.price = price\n",
    "        self.power = power\n",
    "        \n",
    "        \n",
    "    def modelNo(self):\n",
    "        print(\"My car model number is \" + self.model)\n",
    "    \n",
    "    def colorOfCar(self):\n",
    "        print(\"My car color is: \"+ self.color)\n",
    "        \n",
    "    \n",
    "    def nameOfCar(self):\n",
    "        print(\"My car name is: \"+ self.name)\n",
    "        \n",
    "obj1 = Car(\"2019\",\"red\",\"corolla\",\"25lac\",\"107 kW (145 PS)@5600 rpm\")\n",
    "obj1.modelNo()\n",
    "obj1.colorOfCar()\n",
    "obj1.nameOfCar()\n"
   ]
  },
  {
   "cell_type": "code",
   "execution_count": null,
   "metadata": {},
   "outputs": [],
   "source": []
  }
 ],
 "metadata": {
  "kernelspec": {
   "display_name": "Python 3",
   "language": "python",
   "name": "python3"
  },
  "language_info": {
   "codemirror_mode": {
    "name": "ipython",
    "version": 3
   },
   "file_extension": ".py",
   "mimetype": "text/x-python",
   "name": "python",
   "nbconvert_exporter": "python",
   "pygments_lexer": "ipython3",
   "version": "3.7.4"
  }
 },
 "nbformat": 4,
 "nbformat_minor": 2
}
